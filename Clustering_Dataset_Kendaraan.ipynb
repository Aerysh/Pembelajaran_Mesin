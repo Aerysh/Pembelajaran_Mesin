{
  "nbformat": 4,
  "nbformat_minor": 0,
  "metadata": {
    "colab": {
      "name": "asdas.ipynb",
      "provenance": [],
      "collapsed_sections": [],
      "toc_visible": true
    },
    "kernelspec": {
      "name": "python3",
      "display_name": "Python 3"
    },
    "metadata": {
      "interpreter": {
        "hash": "f3ad1180fad112494f7afc14be5aa8f32d4cc9d62474ccc5b2841d53f5114315"
      }
    },
    "language_info": {
      "name": "python"
    }
  },
  "cells": [
    {
      "cell_type": "markdown",
      "metadata": {
        "id": "5fD_DojkS13I"
      },
      "source": [
        "Import Library Yang Dibutuhkan"
      ]
    },
    {
      "cell_type": "code",
      "metadata": {
        "id": "KQ0EaQDpK800"
      },
      "source": [
        "import pandas as pd\n",
        "import numpy as np\n",
        "import matplotlib.pyplot as plt\n",
        "import warnings\n",
        "warnings.filterwarnings('ignore')"
      ],
      "execution_count": 141,
      "outputs": []
    },
    {
      "cell_type": "markdown",
      "metadata": {
        "id": "yHIgs12hS4d-"
      },
      "source": [
        "Baca File Dataset"
      ]
    },
    {
      "cell_type": "code",
      "metadata": {
        "colab": {
          "base_uri": "https://localhost:8080/",
          "height": 204
        },
        "id": "ToJ-17PsK9ZJ",
        "outputId": "5ec7a541-fcba-40ba-ddd6-776616213885"
      },
      "source": [
        "data = pd.read_csv('https://raw.githubusercontent.com/Aerysh/Pembelajaran_Mesin/main/kendaraan_train.csv')\n",
        "data.head()"
      ],
      "execution_count": 142,
      "outputs": [
        {
          "output_type": "execute_result",
          "data": {
            "text/html": [
              "<div>\n",
              "<style scoped>\n",
              "    .dataframe tbody tr th:only-of-type {\n",
              "        vertical-align: middle;\n",
              "    }\n",
              "\n",
              "    .dataframe tbody tr th {\n",
              "        vertical-align: top;\n",
              "    }\n",
              "\n",
              "    .dataframe thead th {\n",
              "        text-align: right;\n",
              "    }\n",
              "</style>\n",
              "<table border=\"1\" class=\"dataframe\">\n",
              "  <thead>\n",
              "    <tr style=\"text-align: right;\">\n",
              "      <th></th>\n",
              "      <th>id</th>\n",
              "      <th>Jenis_Kelamin</th>\n",
              "      <th>Umur</th>\n",
              "      <th>SIM</th>\n",
              "      <th>Kode_Daerah</th>\n",
              "      <th>Sudah_Asuransi</th>\n",
              "      <th>Umur_Kendaraan</th>\n",
              "      <th>Kendaraan_Rusak</th>\n",
              "      <th>Premi</th>\n",
              "      <th>Kanal_Penjualan</th>\n",
              "      <th>Lama_Berlangganan</th>\n",
              "      <th>Tertarik</th>\n",
              "    </tr>\n",
              "  </thead>\n",
              "  <tbody>\n",
              "    <tr>\n",
              "      <th>0</th>\n",
              "      <td>1</td>\n",
              "      <td>Wanita</td>\n",
              "      <td>30.0</td>\n",
              "      <td>1.0</td>\n",
              "      <td>33.0</td>\n",
              "      <td>1.0</td>\n",
              "      <td>&lt; 1 Tahun</td>\n",
              "      <td>Tidak</td>\n",
              "      <td>28029.0</td>\n",
              "      <td>152.0</td>\n",
              "      <td>97.0</td>\n",
              "      <td>0</td>\n",
              "    </tr>\n",
              "    <tr>\n",
              "      <th>1</th>\n",
              "      <td>2</td>\n",
              "      <td>Pria</td>\n",
              "      <td>48.0</td>\n",
              "      <td>1.0</td>\n",
              "      <td>39.0</td>\n",
              "      <td>0.0</td>\n",
              "      <td>&gt; 2 Tahun</td>\n",
              "      <td>Pernah</td>\n",
              "      <td>25800.0</td>\n",
              "      <td>29.0</td>\n",
              "      <td>158.0</td>\n",
              "      <td>0</td>\n",
              "    </tr>\n",
              "    <tr>\n",
              "      <th>2</th>\n",
              "      <td>3</td>\n",
              "      <td>NaN</td>\n",
              "      <td>21.0</td>\n",
              "      <td>1.0</td>\n",
              "      <td>46.0</td>\n",
              "      <td>1.0</td>\n",
              "      <td>&lt; 1 Tahun</td>\n",
              "      <td>Tidak</td>\n",
              "      <td>32733.0</td>\n",
              "      <td>160.0</td>\n",
              "      <td>119.0</td>\n",
              "      <td>0</td>\n",
              "    </tr>\n",
              "    <tr>\n",
              "      <th>3</th>\n",
              "      <td>4</td>\n",
              "      <td>Wanita</td>\n",
              "      <td>58.0</td>\n",
              "      <td>1.0</td>\n",
              "      <td>48.0</td>\n",
              "      <td>0.0</td>\n",
              "      <td>1-2 Tahun</td>\n",
              "      <td>Tidak</td>\n",
              "      <td>2630.0</td>\n",
              "      <td>124.0</td>\n",
              "      <td>63.0</td>\n",
              "      <td>0</td>\n",
              "    </tr>\n",
              "    <tr>\n",
              "      <th>4</th>\n",
              "      <td>5</td>\n",
              "      <td>Pria</td>\n",
              "      <td>50.0</td>\n",
              "      <td>1.0</td>\n",
              "      <td>35.0</td>\n",
              "      <td>0.0</td>\n",
              "      <td>&gt; 2 Tahun</td>\n",
              "      <td>NaN</td>\n",
              "      <td>34857.0</td>\n",
              "      <td>88.0</td>\n",
              "      <td>194.0</td>\n",
              "      <td>0</td>\n",
              "    </tr>\n",
              "  </tbody>\n",
              "</table>\n",
              "</div>"
            ],
            "text/plain": [
              "   id Jenis_Kelamin  Umur  ...  Kanal_Penjualan  Lama_Berlangganan  Tertarik\n",
              "0   1        Wanita  30.0  ...            152.0               97.0         0\n",
              "1   2          Pria  48.0  ...             29.0              158.0         0\n",
              "2   3           NaN  21.0  ...            160.0              119.0         0\n",
              "3   4        Wanita  58.0  ...            124.0               63.0         0\n",
              "4   5          Pria  50.0  ...             88.0              194.0         0\n",
              "\n",
              "[5 rows x 12 columns]"
            ]
          },
          "metadata": {
            "tags": []
          },
          "execution_count": 142
        }
      ]
    },
    {
      "cell_type": "markdown",
      "metadata": {
        "id": "OhH_SzTIxtzC"
      },
      "source": [
        "# Eksplorasi Data"
      ]
    },
    {
      "cell_type": "code",
      "metadata": {
        "colab": {
          "base_uri": "https://localhost:8080/"
        },
        "id": "KDIkiuqYxxWv",
        "outputId": "905ae896-0c41-4bb0-a762-93dfd9924daa"
      },
      "source": [
        "data.dtypes"
      ],
      "execution_count": 143,
      "outputs": [
        {
          "output_type": "execute_result",
          "data": {
            "text/plain": [
              "id                     int64\n",
              "Jenis_Kelamin         object\n",
              "Umur                 float64\n",
              "SIM                  float64\n",
              "Kode_Daerah          float64\n",
              "Sudah_Asuransi       float64\n",
              "Umur_Kendaraan        object\n",
              "Kendaraan_Rusak       object\n",
              "Premi                float64\n",
              "Kanal_Penjualan      float64\n",
              "Lama_Berlangganan    float64\n",
              "Tertarik               int64\n",
              "dtype: object"
            ]
          },
          "metadata": {
            "tags": []
          },
          "execution_count": 143
        }
      ]
    },
    {
      "cell_type": "markdown",
      "metadata": {
        "id": "cqsYr_Fx202s"
      },
      "source": [
        "Ubah Value di Sebuah Kolom Jika Dibutuhkan"
      ]
    },
    {
      "cell_type": "code",
      "metadata": {
        "colab": {
          "base_uri": "https://localhost:8080/",
          "height": 419
        },
        "id": "udMFWXLwcZJh",
        "outputId": "1e17860f-cb9c-4f0c-f2ff-b5ad4e2102c5"
      },
      "source": [
        "data['Kendaraan_Rusak'] = data['Kendaraan_Rusak'].replace(['Tidak'], 0)\n",
        "data['Kendaraan_Rusak'] = data['Kendaraan_Rusak'].replace(['Pernah'], 1)\n",
        "data"
      ],
      "execution_count": 144,
      "outputs": [
        {
          "output_type": "execute_result",
          "data": {
            "text/html": [
              "<div>\n",
              "<style scoped>\n",
              "    .dataframe tbody tr th:only-of-type {\n",
              "        vertical-align: middle;\n",
              "    }\n",
              "\n",
              "    .dataframe tbody tr th {\n",
              "        vertical-align: top;\n",
              "    }\n",
              "\n",
              "    .dataframe thead th {\n",
              "        text-align: right;\n",
              "    }\n",
              "</style>\n",
              "<table border=\"1\" class=\"dataframe\">\n",
              "  <thead>\n",
              "    <tr style=\"text-align: right;\">\n",
              "      <th></th>\n",
              "      <th>id</th>\n",
              "      <th>Jenis_Kelamin</th>\n",
              "      <th>Umur</th>\n",
              "      <th>SIM</th>\n",
              "      <th>Kode_Daerah</th>\n",
              "      <th>Sudah_Asuransi</th>\n",
              "      <th>Umur_Kendaraan</th>\n",
              "      <th>Kendaraan_Rusak</th>\n",
              "      <th>Premi</th>\n",
              "      <th>Kanal_Penjualan</th>\n",
              "      <th>Lama_Berlangganan</th>\n",
              "      <th>Tertarik</th>\n",
              "    </tr>\n",
              "  </thead>\n",
              "  <tbody>\n",
              "    <tr>\n",
              "      <th>0</th>\n",
              "      <td>1</td>\n",
              "      <td>Wanita</td>\n",
              "      <td>30.0</td>\n",
              "      <td>1.0</td>\n",
              "      <td>33.0</td>\n",
              "      <td>1.0</td>\n",
              "      <td>&lt; 1 Tahun</td>\n",
              "      <td>0.0</td>\n",
              "      <td>28029.0</td>\n",
              "      <td>152.0</td>\n",
              "      <td>97.0</td>\n",
              "      <td>0</td>\n",
              "    </tr>\n",
              "    <tr>\n",
              "      <th>1</th>\n",
              "      <td>2</td>\n",
              "      <td>Pria</td>\n",
              "      <td>48.0</td>\n",
              "      <td>1.0</td>\n",
              "      <td>39.0</td>\n",
              "      <td>0.0</td>\n",
              "      <td>&gt; 2 Tahun</td>\n",
              "      <td>1.0</td>\n",
              "      <td>25800.0</td>\n",
              "      <td>29.0</td>\n",
              "      <td>158.0</td>\n",
              "      <td>0</td>\n",
              "    </tr>\n",
              "    <tr>\n",
              "      <th>2</th>\n",
              "      <td>3</td>\n",
              "      <td>NaN</td>\n",
              "      <td>21.0</td>\n",
              "      <td>1.0</td>\n",
              "      <td>46.0</td>\n",
              "      <td>1.0</td>\n",
              "      <td>&lt; 1 Tahun</td>\n",
              "      <td>0.0</td>\n",
              "      <td>32733.0</td>\n",
              "      <td>160.0</td>\n",
              "      <td>119.0</td>\n",
              "      <td>0</td>\n",
              "    </tr>\n",
              "    <tr>\n",
              "      <th>3</th>\n",
              "      <td>4</td>\n",
              "      <td>Wanita</td>\n",
              "      <td>58.0</td>\n",
              "      <td>1.0</td>\n",
              "      <td>48.0</td>\n",
              "      <td>0.0</td>\n",
              "      <td>1-2 Tahun</td>\n",
              "      <td>0.0</td>\n",
              "      <td>2630.0</td>\n",
              "      <td>124.0</td>\n",
              "      <td>63.0</td>\n",
              "      <td>0</td>\n",
              "    </tr>\n",
              "    <tr>\n",
              "      <th>4</th>\n",
              "      <td>5</td>\n",
              "      <td>Pria</td>\n",
              "      <td>50.0</td>\n",
              "      <td>1.0</td>\n",
              "      <td>35.0</td>\n",
              "      <td>0.0</td>\n",
              "      <td>&gt; 2 Tahun</td>\n",
              "      <td>NaN</td>\n",
              "      <td>34857.0</td>\n",
              "      <td>88.0</td>\n",
              "      <td>194.0</td>\n",
              "      <td>0</td>\n",
              "    </tr>\n",
              "    <tr>\n",
              "      <th>...</th>\n",
              "      <td>...</td>\n",
              "      <td>...</td>\n",
              "      <td>...</td>\n",
              "      <td>...</td>\n",
              "      <td>...</td>\n",
              "      <td>...</td>\n",
              "      <td>...</td>\n",
              "      <td>...</td>\n",
              "      <td>...</td>\n",
              "      <td>...</td>\n",
              "      <td>...</td>\n",
              "      <td>...</td>\n",
              "    </tr>\n",
              "    <tr>\n",
              "      <th>285826</th>\n",
              "      <td>285827</td>\n",
              "      <td>Wanita</td>\n",
              "      <td>23.0</td>\n",
              "      <td>1.0</td>\n",
              "      <td>4.0</td>\n",
              "      <td>1.0</td>\n",
              "      <td>&lt; 1 Tahun</td>\n",
              "      <td>0.0</td>\n",
              "      <td>25988.0</td>\n",
              "      <td>152.0</td>\n",
              "      <td>217.0</td>\n",
              "      <td>0</td>\n",
              "    </tr>\n",
              "    <tr>\n",
              "      <th>285827</th>\n",
              "      <td>285828</td>\n",
              "      <td>Wanita</td>\n",
              "      <td>21.0</td>\n",
              "      <td>1.0</td>\n",
              "      <td>46.0</td>\n",
              "      <td>1.0</td>\n",
              "      <td>&lt; 1 Tahun</td>\n",
              "      <td>0.0</td>\n",
              "      <td>44686.0</td>\n",
              "      <td>152.0</td>\n",
              "      <td>50.0</td>\n",
              "      <td>0</td>\n",
              "    </tr>\n",
              "    <tr>\n",
              "      <th>285828</th>\n",
              "      <td>285829</td>\n",
              "      <td>Wanita</td>\n",
              "      <td>23.0</td>\n",
              "      <td>1.0</td>\n",
              "      <td>50.0</td>\n",
              "      <td>1.0</td>\n",
              "      <td>&lt; 1 Tahun</td>\n",
              "      <td>0.0</td>\n",
              "      <td>49751.0</td>\n",
              "      <td>152.0</td>\n",
              "      <td>226.0</td>\n",
              "      <td>0</td>\n",
              "    </tr>\n",
              "    <tr>\n",
              "      <th>285829</th>\n",
              "      <td>285830</td>\n",
              "      <td>Pria</td>\n",
              "      <td>68.0</td>\n",
              "      <td>1.0</td>\n",
              "      <td>7.0</td>\n",
              "      <td>1.0</td>\n",
              "      <td>1-2 Tahun</td>\n",
              "      <td>0.0</td>\n",
              "      <td>30503.0</td>\n",
              "      <td>124.0</td>\n",
              "      <td>270.0</td>\n",
              "      <td>0</td>\n",
              "    </tr>\n",
              "    <tr>\n",
              "      <th>285830</th>\n",
              "      <td>285831</td>\n",
              "      <td>Pria</td>\n",
              "      <td>45.0</td>\n",
              "      <td>1.0</td>\n",
              "      <td>28.0</td>\n",
              "      <td>0.0</td>\n",
              "      <td>1-2 Tahun</td>\n",
              "      <td>1.0</td>\n",
              "      <td>36480.0</td>\n",
              "      <td>26.0</td>\n",
              "      <td>44.0</td>\n",
              "      <td>0</td>\n",
              "    </tr>\n",
              "  </tbody>\n",
              "</table>\n",
              "<p>285831 rows × 12 columns</p>\n",
              "</div>"
            ],
            "text/plain": [
              "            id Jenis_Kelamin  ...  Lama_Berlangganan  Tertarik\n",
              "0            1        Wanita  ...               97.0         0\n",
              "1            2          Pria  ...              158.0         0\n",
              "2            3           NaN  ...              119.0         0\n",
              "3            4        Wanita  ...               63.0         0\n",
              "4            5          Pria  ...              194.0         0\n",
              "...        ...           ...  ...                ...       ...\n",
              "285826  285827        Wanita  ...              217.0         0\n",
              "285827  285828        Wanita  ...               50.0         0\n",
              "285828  285829        Wanita  ...              226.0         0\n",
              "285829  285830          Pria  ...              270.0         0\n",
              "285830  285831          Pria  ...               44.0         0\n",
              "\n",
              "[285831 rows x 12 columns]"
            ]
          },
          "metadata": {
            "tags": []
          },
          "execution_count": 144
        }
      ]
    },
    {
      "cell_type": "markdown",
      "metadata": {
        "id": "EqdOO9ElTDOg"
      },
      "source": [
        "Memilih Kolom Yang Dibutuhkan"
      ]
    },
    {
      "cell_type": "code",
      "metadata": {
        "colab": {
          "base_uri": "https://localhost:8080/",
          "height": 419
        },
        "id": "4taKIQjtP-Iz",
        "outputId": "dc3bf660-5950-4bb8-8f20-19ae95cb1c57"
      },
      "source": [
        "selColumn = ['Umur', 'Lama_Berlangganan']\n",
        "newData = data[selColumn]\n",
        "newData"
      ],
      "execution_count": 145,
      "outputs": [
        {
          "output_type": "execute_result",
          "data": {
            "text/html": [
              "<div>\n",
              "<style scoped>\n",
              "    .dataframe tbody tr th:only-of-type {\n",
              "        vertical-align: middle;\n",
              "    }\n",
              "\n",
              "    .dataframe tbody tr th {\n",
              "        vertical-align: top;\n",
              "    }\n",
              "\n",
              "    .dataframe thead th {\n",
              "        text-align: right;\n",
              "    }\n",
              "</style>\n",
              "<table border=\"1\" class=\"dataframe\">\n",
              "  <thead>\n",
              "    <tr style=\"text-align: right;\">\n",
              "      <th></th>\n",
              "      <th>Umur</th>\n",
              "      <th>Lama_Berlangganan</th>\n",
              "    </tr>\n",
              "  </thead>\n",
              "  <tbody>\n",
              "    <tr>\n",
              "      <th>0</th>\n",
              "      <td>30.0</td>\n",
              "      <td>97.0</td>\n",
              "    </tr>\n",
              "    <tr>\n",
              "      <th>1</th>\n",
              "      <td>48.0</td>\n",
              "      <td>158.0</td>\n",
              "    </tr>\n",
              "    <tr>\n",
              "      <th>2</th>\n",
              "      <td>21.0</td>\n",
              "      <td>119.0</td>\n",
              "    </tr>\n",
              "    <tr>\n",
              "      <th>3</th>\n",
              "      <td>58.0</td>\n",
              "      <td>63.0</td>\n",
              "    </tr>\n",
              "    <tr>\n",
              "      <th>4</th>\n",
              "      <td>50.0</td>\n",
              "      <td>194.0</td>\n",
              "    </tr>\n",
              "    <tr>\n",
              "      <th>...</th>\n",
              "      <td>...</td>\n",
              "      <td>...</td>\n",
              "    </tr>\n",
              "    <tr>\n",
              "      <th>285826</th>\n",
              "      <td>23.0</td>\n",
              "      <td>217.0</td>\n",
              "    </tr>\n",
              "    <tr>\n",
              "      <th>285827</th>\n",
              "      <td>21.0</td>\n",
              "      <td>50.0</td>\n",
              "    </tr>\n",
              "    <tr>\n",
              "      <th>285828</th>\n",
              "      <td>23.0</td>\n",
              "      <td>226.0</td>\n",
              "    </tr>\n",
              "    <tr>\n",
              "      <th>285829</th>\n",
              "      <td>68.0</td>\n",
              "      <td>270.0</td>\n",
              "    </tr>\n",
              "    <tr>\n",
              "      <th>285830</th>\n",
              "      <td>45.0</td>\n",
              "      <td>44.0</td>\n",
              "    </tr>\n",
              "  </tbody>\n",
              "</table>\n",
              "<p>285831 rows × 2 columns</p>\n",
              "</div>"
            ],
            "text/plain": [
              "        Umur  Lama_Berlangganan\n",
              "0       30.0               97.0\n",
              "1       48.0              158.0\n",
              "2       21.0              119.0\n",
              "3       58.0               63.0\n",
              "4       50.0              194.0\n",
              "...      ...                ...\n",
              "285826  23.0              217.0\n",
              "285827  21.0               50.0\n",
              "285828  23.0              226.0\n",
              "285829  68.0              270.0\n",
              "285830  45.0               44.0\n",
              "\n",
              "[285831 rows x 2 columns]"
            ]
          },
          "metadata": {
            "tags": []
          },
          "execution_count": 145
        }
      ]
    },
    {
      "cell_type": "markdown",
      "metadata": {
        "id": "XgXqcCD_5LXD"
      },
      "source": [
        "# Preprocessing Data"
      ]
    },
    {
      "cell_type": "markdown",
      "metadata": {
        "id": "dQ-KeywdTHtN"
      },
      "source": [
        "Cek Banyak Data Duplikat & Hapus Data Duplikat\n",
        "\n",
        "\n",
        "\n"
      ]
    },
    {
      "cell_type": "code",
      "metadata": {
        "colab": {
          "base_uri": "https://localhost:8080/"
        },
        "id": "TD_V3VcZRLY8",
        "outputId": "ac427670-15e0-4283-d946-fd662e0c4ab7"
      },
      "source": [
        "dupe = newData.duplicated()\n",
        "print('Total Data Duplikat =', dupe.sum())\n",
        "data = newData.drop_duplicates()\n",
        "print('Total Data Setelah Dihapus = ', data.shape[0])"
      ],
      "execution_count": 146,
      "outputs": [
        {
          "output_type": "stream",
          "text": [
            "Total Data Duplikat = 267835\n",
            "Total Data Setelah Dihapus =  17996\n"
          ],
          "name": "stdout"
        }
      ]
    },
    {
      "cell_type": "markdown",
      "metadata": {
        "id": "ilDDg54QSUCc"
      },
      "source": [
        "Cek Banyak Data Kosong"
      ]
    },
    {
      "cell_type": "code",
      "metadata": {
        "colab": {
          "base_uri": "https://localhost:8080/"
        },
        "id": "FxFNON7HSTS0",
        "outputId": "824c2a84-f515-4e96-fef0-274f36e0777b"
      },
      "source": [
        "data.isnull().sum()"
      ],
      "execution_count": 147,
      "outputs": [
        {
          "output_type": "execute_result",
          "data": {
            "text/plain": [
              "Umur                 291\n",
              "Lama_Berlangganan     65\n",
              "dtype: int64"
            ]
          },
          "metadata": {
            "tags": []
          },
          "execution_count": 147
        }
      ]
    },
    {
      "cell_type": "markdown",
      "metadata": {
        "id": "_sDu7cpFScPX"
      },
      "source": [
        "Delete Data Yang Kosong"
      ]
    },
    {
      "cell_type": "code",
      "metadata": {
        "colab": {
          "base_uri": "https://localhost:8080/"
        },
        "id": "RdPoc-WnSgDL",
        "outputId": "69e40fc2-9e72-479a-9a59-c981a85e71f4"
      },
      "source": [
        "newData = data.dropna()\n",
        "\n",
        "# Cek Data Yang Kosong\n",
        "newData.isnull().sum()"
      ],
      "execution_count": 148,
      "outputs": [
        {
          "output_type": "execute_result",
          "data": {
            "text/plain": [
              "Umur                 0\n",
              "Lama_Berlangganan    0\n",
              "dtype: int64"
            ]
          },
          "metadata": {
            "tags": []
          },
          "execution_count": 148
        }
      ]
    },
    {
      "cell_type": "markdown",
      "metadata": {
        "id": "u7DCcnSK5-2f"
      },
      "source": [
        "# Outliers"
      ]
    },
    {
      "cell_type": "code",
      "metadata": {
        "id": "Iq-Kx0tY-QZ5"
      },
      "source": [
        "newDataO = newData"
      ],
      "execution_count": 149,
      "outputs": []
    },
    {
      "cell_type": "markdown",
      "metadata": {
        "id": "tnNwxNCK__KU"
      },
      "source": [
        "Box Plot Outliers"
      ]
    },
    {
      "cell_type": "code",
      "metadata": {
        "colab": {
          "base_uri": "https://localhost:8080/",
          "height": 625
        },
        "id": "20RjX5yQ5_F_",
        "outputId": "846f59cd-be18-4a32-a8f4-21e144bb3b4f"
      },
      "source": [
        "import seaborn as sns\n",
        "\n",
        "selColumnLength = len(set(selColumn))\n",
        "plt.figure(figsize=(10,7.5))\n",
        "f, axes = plt.subplots(1, selColumnLength)\n",
        "sns.boxplot(y=newData['Umur'], ax=axes[0])\n",
        "sns.boxplot(y=newData['Lama_Berlangganan'], ax=axes[1])\n",
        "plt.subplots_adjust(wspace=4)"
      ],
      "execution_count": 150,
      "outputs": [
        {
          "output_type": "display_data",
          "data": {
            "text/plain": [
              "<Figure size 1000x750 with 0 Axes>"
            ]
          },
          "metadata": {
            "tags": []
          }
        },
        {
          "output_type": "display_data",
          "data": {
            "image/png": "[encoded data removed]",
            "text/plain": [
              "<Figure size 1000x750 with 2 Axes>"
            ]
          },
          "metadata": {
            "tags": [],
            "needs_background": "light"
          }
        }
      ]
    },
    {
      "cell_type": "markdown",
      "metadata": {
        "id": "bR_II3q7AArH"
      },
      "source": [
        "Scatter Plot Outliers"
      ]
    },
    {
      "cell_type": "code",
      "metadata": {
        "colab": {
          "base_uri": "https://localhost:8080/",
          "height": 646
        },
        "id": "fPuE7Ph16I4Q",
        "outputId": "690cf232-0574-4036-8e8a-b7da0f905150"
      },
      "source": [
        "fig, ax = plt.subplots(figsize=(10,7.5))\n",
        "ax.scatter(newData['Umur'], newData['Lama_Berlangganan'])\n",
        "ax.set_xlabel('Umur')\n",
        "ax.set_ylabel('Lama_Berlangganan')\n",
        "plt.show()"
      ],
      "execution_count": 151,
      "outputs": [
        {
          "output_type": "display_data",
          "data": {
            "image/png": "[encoded data removed]",
            "text/plain": [
              "<Figure size 1000x750 with 1 Axes>"
            ]
          },
          "metadata": {
            "tags": [],
            "needs_background": "light"
          }
        }
      ]
    },
    {
      "cell_type": "markdown",
      "metadata": {
        "id": "E6jW3yTQAFg2"
      },
      "source": [
        "Mencari Z-Score"
      ]
    },
    {
      "cell_type": "code",
      "metadata": {
        "colab": {
          "base_uri": "https://localhost:8080/"
        },
        "id": "VkaSyM936XWt",
        "outputId": "98a5e00d-ddda-40fe-a4a5-d63ccef512f6"
      },
      "source": [
        "from scipy import stats\n",
        "import numpy as np\n",
        "z = np.abs(stats.zscore(newData))\n",
        "print(z)"
      ],
      "execution_count": 152,
      "outputs": [
        {
          "output_type": "stream",
          "text": [
            "[[1.13276284 0.68693373]\n",
            " [0.11061096 0.0418791 ]\n",
            " [1.64383878 0.4240832 ]\n",
            " ...\n",
            " [1.99047902 1.65482554]\n",
            " [1.5361893  1.12900053]\n",
            " [1.64976173 0.36446839]]\n"
          ],
          "name": "stdout"
        }
      ]
    },
    {
      "cell_type": "code",
      "metadata": {
        "colab": {
          "base_uri": "https://localhost:8080/"
        },
        "id": "gIqWLJf-ATfy",
        "outputId": "f914079f-ecf2-4356-e9f1-ab701d6e1c1e"
      },
      "source": [
        "z.shape"
      ],
      "execution_count": 153,
      "outputs": [
        {
          "output_type": "execute_result",
          "data": {
            "text/plain": [
              "(17641, 2)"
            ]
          },
          "metadata": {
            "tags": []
          },
          "execution_count": 153
        }
      ]
    },
    {
      "cell_type": "code",
      "metadata": {
        "colab": {
          "base_uri": "https://localhost:8080/"
        },
        "id": "4JzsTUSn6gLf",
        "outputId": "7dd6103e-4703-4b9c-86f9-259cd82c4f8b"
      },
      "source": [
        "threshold = 3\n",
        "print(np.where(z > -3))"
      ],
      "execution_count": 154,
      "outputs": [
        {
          "output_type": "stream",
          "text": [
            "(array([    0,     0,     1, ..., 17639, 17640, 17640]), array([0, 1, 0, ..., 1, 0, 1]))\n"
          ],
          "name": "stdout"
        }
      ]
    },
    {
      "cell_type": "code",
      "metadata": {
        "colab": {
          "base_uri": "https://localhost:8080/"
        },
        "id": "CeO8wMPh6xnU",
        "outputId": "296010c2-da8c-48c5-d430-53441248065f"
      },
      "source": [
        "print(\"Z-Score = \", z[9][1])"
      ],
      "execution_count": 155,
      "outputs": [
        {
          "output_type": "stream",
          "text": [
            "Z-Score =  1.511328578248353\n"
          ],
          "name": "stdout"
        }
      ]
    },
    {
      "cell_type": "markdown",
      "metadata": {
        "id": "bGqJQ70b-Jrw"
      },
      "source": [
        "**Hapus Outliers**"
      ]
    },
    {
      "cell_type": "code",
      "metadata": {
        "id": "NuXoYBBD8r1X"
      },
      "source": [
        "newDataO = newDataO[(z < -3).all(axis=1)]"
      ],
      "execution_count": 156,
      "outputs": []
    },
    {
      "cell_type": "code",
      "metadata": {
        "colab": {
          "base_uri": "https://localhost:8080/"
        },
        "id": "n9z6XVKZ9LsM",
        "outputId": "c5370e26-6fa5-4ca8-f30b-009532d4abc2"
      },
      "source": [
        "newData.shape"
      ],
      "execution_count": 157,
      "outputs": [
        {
          "output_type": "execute_result",
          "data": {
            "text/plain": [
              "(17641, 2)"
            ]
          },
          "metadata": {
            "tags": []
          },
          "execution_count": 157
        }
      ]
    },
    {
      "cell_type": "code",
      "metadata": {
        "colab": {
          "base_uri": "https://localhost:8080/"
        },
        "id": "BV8Lnr0i9ugH",
        "outputId": "e1ea1427-de43-4986-96f4-a6c91688fa06"
      },
      "source": [
        "newDataO.shape"
      ],
      "execution_count": 158,
      "outputs": [
        {
          "output_type": "execute_result",
          "data": {
            "text/plain": [
              "(0, 2)"
            ]
          },
          "metadata": {
            "tags": []
          },
          "execution_count": 158
        }
      ]
    },
    {
      "cell_type": "code",
      "metadata": {
        "colab": {
          "base_uri": "https://localhost:8080/"
        },
        "id": "nOgidf6C-X2o",
        "outputId": "c7185698-d9bc-4b5e-b5c2-756d6d0473e6"
      },
      "source": [
        "# IQR Score\n",
        "\n",
        "newDataO1 = newData\n",
        "Q1 = newDataO1.quantile(0.25)\n",
        "Q3 = newDataO1.quantile(0.75)\n",
        "IQR = Q3 - Q1\n",
        "print(IQR)"
      ],
      "execution_count": 159,
      "outputs": [
        {
          "output_type": "stream",
          "text": [
            "Umur                  30.0\n",
            "Lama_Berlangganan    145.0\n",
            "dtype: float64\n"
          ],
          "name": "stdout"
        }
      ]
    },
    {
      "cell_type": "code",
      "metadata": {
        "colab": {
          "base_uri": "https://localhost:8080/"
        },
        "id": "-7pEkv9M-i_B",
        "outputId": "e2b24cd3-25b0-4281-e0c4-88163d5e15eb"
      },
      "source": [
        "newDataOut = newDataO1[~((newDataO1 < (Q1 - 1.5 * IQR)) |(newDataO1 > (Q3 + 1.5 * IQR))).any(axis=1)]\n",
        "newDataOut.shape"
      ],
      "execution_count": 160,
      "outputs": [
        {
          "output_type": "execute_result",
          "data": {
            "text/plain": [
              "(17641, 2)"
            ]
          },
          "metadata": {
            "tags": []
          },
          "execution_count": 160
        }
      ]
    },
    {
      "cell_type": "markdown",
      "metadata": {
        "id": "lnql-bXc3xx5"
      },
      "source": [
        "# Scaling"
      ]
    },
    {
      "cell_type": "code",
      "metadata": {
        "colab": {
          "base_uri": "https://localhost:8080/"
        },
        "id": "LotnI1X-UpCm",
        "outputId": "73bfc2da-114a-4d1a-bf80-bf8f8a5f91e9"
      },
      "source": [
        "from sklearn.preprocessing import MinMaxScaler\n",
        "\n",
        "scaling = MinMaxScaler().fit_transform(newDataOut)\n",
        "scaling"
      ],
      "execution_count": 161,
      "outputs": [
        {
          "output_type": "execute_result",
          "data": {
            "text/plain": [
              "array([[0.15384615, 0.30103806],\n",
              "       [0.43076923, 0.51211073],\n",
              "       [0.01538462, 0.37716263],\n",
              "       ...,\n",
              "       [1.        , 0.97923875],\n",
              "       [0.87692308, 0.17301038],\n",
              "       [0.90769231, 0.60553633]])"
            ]
          },
          "metadata": {
            "tags": []
          },
          "execution_count": 161
        }
      ]
    },
    {
      "cell_type": "code",
      "metadata": {
        "colab": {
          "base_uri": "https://localhost:8080/",
          "height": 204
        },
        "id": "m4JIkHAMUsAS",
        "outputId": "3a6b6abb-9649-4915-8f24-6e7f76efa1d2"
      },
      "source": [
        "from sklearn.decomposition import PCA\n",
        "\n",
        "pca = PCA(n_components=2)\n",
        "principalComponents = pca.fit_transform(scaling)\n",
        "data_new = pd.DataFrame(data = principalComponents, columns = ['x', 'y'])\n",
        "data_new.head()"
      ],
      "execution_count": 162,
      "outputs": [
        {
          "output_type": "execute_result",
          "data": {
            "text/html": [
              "<div>\n",
              "<style scoped>\n",
              "    .dataframe tbody tr th:only-of-type {\n",
              "        vertical-align: middle;\n",
              "    }\n",
              "\n",
              "    .dataframe tbody tr th {\n",
              "        vertical-align: top;\n",
              "    }\n",
              "\n",
              "    .dataframe thead th {\n",
              "        text-align: right;\n",
              "    }\n",
              "</style>\n",
              "<table border=\"1\" class=\"dataframe\">\n",
              "  <thead>\n",
              "    <tr style=\"text-align: right;\">\n",
              "      <th></th>\n",
              "      <th>x</th>\n",
              "      <th>y</th>\n",
              "    </tr>\n",
              "  </thead>\n",
              "  <tbody>\n",
              "    <tr>\n",
              "      <th>0</th>\n",
              "      <td>-0.198738</td>\n",
              "      <td>-0.307023</td>\n",
              "    </tr>\n",
              "    <tr>\n",
              "      <th>1</th>\n",
              "      <td>0.012149</td>\n",
              "      <td>-0.029959</td>\n",
              "    </tr>\n",
              "    <tr>\n",
              "      <th>2</th>\n",
              "      <td>-0.122521</td>\n",
              "      <td>-0.445434</td>\n",
              "    </tr>\n",
              "    <tr>\n",
              "      <th>3</th>\n",
              "      <td>-0.316674</td>\n",
              "      <td>0.123667</td>\n",
              "    </tr>\n",
              "    <tr>\n",
              "      <th>4</th>\n",
              "      <td>0.136696</td>\n",
              "      <td>0.000894</td>\n",
              "    </tr>\n",
              "  </tbody>\n",
              "</table>\n",
              "</div>"
            ],
            "text/plain": [
              "          x         y\n",
              "0 -0.198738 -0.307023\n",
              "1  0.012149 -0.029959\n",
              "2 -0.122521 -0.445434\n",
              "3 -0.316674  0.123667\n",
              "4  0.136696  0.000894"
            ]
          },
          "metadata": {
            "tags": []
          },
          "execution_count": 162
        }
      ]
    },
    {
      "cell_type": "code",
      "metadata": {
        "colab": {
          "base_uri": "https://localhost:8080/"
        },
        "id": "lw96nTtoegq-",
        "outputId": "1b940392-7d7c-40f6-b88e-9403ff5317e3"
      },
      "source": [
        "newX = MinMaxScaler().fit_transform(data_new)\n",
        "newX"
      ],
      "execution_count": 163,
      "outputs": [
        {
          "output_type": "execute_result",
          "data": {
            "text/plain": [
              "array([[0.30136702, 0.15394683],\n",
              "       [0.51212384, 0.43082967],\n",
              "       [0.37753725, 0.01562703],\n",
              "       ...,\n",
              "       [0.97858208, 1.        ],\n",
              "       [0.17293436, 0.87646401],\n",
              "       [0.60517241, 0.90750264]])"
            ]
          },
          "metadata": {
            "tags": []
          },
          "execution_count": 163
        }
      ]
    },
    {
      "cell_type": "code",
      "metadata": {
        "colab": {
          "base_uri": "https://localhost:8080/",
          "height": 626
        },
        "id": "i3aptoVoU4lT",
        "outputId": "4dc04e14-32bb-412f-dfff-1de65539ae63"
      },
      "source": [
        "plt.figure(figsize=(10,7.5))\n",
        "plt.scatter(newX[:,0], newX[:,1], s=5, cmap ='plasma', alpha=.5)\n",
        "plt.show()"
      ],
      "execution_count": 164,
      "outputs": [
        {
          "output_type": "display_data",
          "data": {
            "image/png": "[encoded data removed]",
            "text/plain": [
              "<Figure size 1000x750 with 1 Axes>"
            ]
          },
          "metadata": {
            "tags": [],
            "needs_background": "light"
          }
        }
      ]
    },
    {
      "cell_type": "code",
      "metadata": {
        "id": "o4oWG1tt4GqX"
      },
      "source": [
        "X = data_new.copy().values\n",
        "X = MinMaxScaler(feature_range=(0,10)).fit_transform(X)"
      ],
      "execution_count": 165,
      "outputs": []
    },
    {
      "cell_type": "code",
      "metadata": {
        "colab": {
          "base_uri": "https://localhost:8080/",
          "height": 626
        },
        "id": "UK5iHGrC4JLX",
        "outputId": "66899b56-2974-489a-c23e-d4f6a6306b09"
      },
      "source": [
        "plt.figure(figsize=(10,7.5))\n",
        "plt.scatter(X[:,0], X[:,1], s=5, cmap ='plasma')\n",
        "plt.show()"
      ],
      "execution_count": 166,
      "outputs": [
        {
          "output_type": "display_data",
          "data": {
            "image/png": "[encoded data removed]",
            "text/plain": [
              "<Figure size 1000x750 with 1 Axes>"
            ]
          },
          "metadata": {
            "tags": [],
            "needs_background": "light"
          }
        }
      ]
    },
    {
      "cell_type": "markdown",
      "metadata": {
        "id": "xbOzqg_3J2UA"
      },
      "source": [
        "# Clustering"
      ]
    },
    {
      "cell_type": "markdown",
      "metadata": {
        "id": "S-FxouCHKg35"
      },
      "source": [
        "Nilai K"
      ]
    },
    {
      "cell_type": "code",
      "metadata": {
        "id": "3FhA8kJKKe4X"
      },
      "source": [
        "K = 6"
      ],
      "execution_count": 167,
      "outputs": []
    },
    {
      "cell_type": "code",
      "metadata": {
        "id": "_x_meeI1KfUo"
      },
      "source": [
        "m=X.shape[0]\n",
        "n=X.shape[1]\n",
        "n_iter=50\n",
        "import random"
      ],
      "execution_count": 168,
      "outputs": []
    },
    {
      "cell_type": "markdown",
      "metadata": {
        "id": "QSCu8FseKoh4"
      },
      "source": [
        "Membuat Array Kosong Untuk Centroid"
      ]
    },
    {
      "cell_type": "code",
      "metadata": {
        "id": "npX6GiaIJzJh"
      },
      "source": [
        "centroids = np.array([]).reshape(n, 0)"
      ],
      "execution_count": 169,
      "outputs": []
    },
    {
      "cell_type": "markdown",
      "metadata": {
        "id": "C05pttMHKsBI"
      },
      "source": [
        "Membuat Centroid Random Sejumlah K"
      ]
    },
    {
      "cell_type": "code",
      "metadata": {
        "id": "kkWBVc_BKquv"
      },
      "source": [
        "for k in range(K):\n",
        "  centroids = np.c_[centroids, X[random.randint(0, m-1)]]"
      ],
      "execution_count": 170,
      "outputs": []
    },
    {
      "cell_type": "code",
      "metadata": {
        "id": "ACW7e8MjKv2h"
      },
      "source": [
        "output = {}"
      ],
      "execution_count": 171,
      "outputs": []
    },
    {
      "cell_type": "markdown",
      "metadata": {
        "id": "cwlF1TtUKyN_"
      },
      "source": [
        "Membuat Array Kosong"
      ]
    },
    {
      "cell_type": "code",
      "metadata": {
        "id": "9Xh9dKfKKxC0"
      },
      "source": [
        "euclid=np.array([]).reshape(m,0)"
      ],
      "execution_count": 172,
      "outputs": []
    },
    {
      "cell_type": "markdown",
      "metadata": {
        "id": "bjNypWd0K27G"
      },
      "source": [
        "Mencari Jarak Antar Centroid"
      ]
    },
    {
      "cell_type": "code",
      "metadata": {
        "id": "NcXj9pIQK6L5"
      },
      "source": [
        "for k in range(K):\n",
        "  dist=np.sum((X-centroids[:,k])**2,axis=1)\n",
        "  euclid=np.c_[euclid,dist]  "
      ],
      "execution_count": 173,
      "outputs": []
    },
    {
      "cell_type": "markdown",
      "metadata": {
        "id": "B1okb2BuLCCj"
      },
      "source": [
        "Menyimpan Minimum Value"
      ]
    },
    {
      "cell_type": "code",
      "metadata": {
        "id": "aHx_CpIpLFJu"
      },
      "source": [
        "min=np.argmin(euclid,axis=1)+1"
      ],
      "execution_count": 174,
      "outputs": []
    },
    {
      "cell_type": "markdown",
      "metadata": {
        "id": "ibUDM7L3LHVd"
      },
      "source": [
        "Mencari Mean Dari Cluster"
      ]
    },
    {
      "cell_type": "code",
      "metadata": {
        "id": "0r-AzHyGLNrN"
      },
      "source": [
        "cent={}\n",
        "for k in range(K):\n",
        "    cent[k+1]=np.array([]).reshape(2,0)"
      ],
      "execution_count": 175,
      "outputs": []
    },
    {
      "cell_type": "markdown",
      "metadata": {
        "id": "AtGy_KOkLOfi"
      },
      "source": [
        "Menetapkan Sebuah Cluster Ke Sebuah Titik"
      ]
    },
    {
      "cell_type": "code",
      "metadata": {
        "id": "GRFvaKIgLYZz"
      },
      "source": [
        "for k in range(m):\n",
        "  cent[min[k]]=np.c_[cent[min[k]],X[k]]\n",
        "for k in range(K):\n",
        "  cent[k+1]=cent[k+1].T"
      ],
      "execution_count": 176,
      "outputs": []
    },
    {
      "cell_type": "markdown",
      "metadata": {
        "id": "oaW9D8g2LcbJ"
      },
      "source": [
        "Menghitung Ulang Mean"
      ]
    },
    {
      "cell_type": "code",
      "metadata": {
        "id": "3lMYSa_7LfrI"
      },
      "source": [
        "for k in range(K):\n",
        "     centroids[:,k]=np.mean(cent[k+1],axis=0)"
      ],
      "execution_count": 177,
      "outputs": []
    },
    {
      "cell_type": "markdown",
      "metadata": {
        "id": "xfki7KKmLsjm"
      },
      "source": [
        "Mengulang Semua Step Diatas"
      ]
    },
    {
      "cell_type": "code",
      "metadata": {
        "id": "aekTYimGLuek"
      },
      "source": [
        "for i in range(n_iter):\n",
        "  euclid=np.array([]).reshape(m,0)\n",
        "  for k in range(K):\n",
        "    dist=np.sum((X-centroids[:,k])**2,axis=1)\n",
        "    euclid=np.c_[euclid,dist]\n",
        "  C=np.argmin(euclid,axis=1)+1\n",
        "  cent={}\n",
        "  for k in range(K):\n",
        "    cent[k+1]=np.array([]).reshape(2,0)\n",
        "  for k in range(m):\n",
        "    cent[C[k]]=np.c_[cent[C[k]],X[k]]\n",
        "  for k in range(K):\n",
        "    cent[k+1]=cent[k+1].T\n",
        "  for k in range(K):\n",
        "    centroids[:,k]=np.mean(cent[k+1],axis=0)\n",
        "  final=cent"
      ],
      "execution_count": 178,
      "outputs": []
    },
    {
      "cell_type": "markdown",
      "metadata": {
        "id": "Ml2ngnKzNDCA"
      },
      "source": [
        "Output Plottingan"
      ]
    },
    {
      "cell_type": "code",
      "metadata": {
        "colab": {
          "base_uri": "https://localhost:8080/",
          "height": 626
        },
        "id": "atnwG2HML_gr",
        "outputId": "1eae8d69-bc0a-4930-9f24-4b8712421798"
      },
      "source": [
        "for k in range(K):\n",
        "    plt.scatter(final[k+1][:,0],final[k+1][:,1], s=5)\n",
        "plt.scatter(centroids[0,:],centroids[1,:], s=100, c='yellow')\n",
        "plt.rcParams.update({'figure.figsize':(10,7.5), 'figure.dpi':100})\n",
        "plt.show()"
      ],
      "execution_count": 179,
      "outputs": [
        {
          "output_type": "display_data",
          "data": {
            "image/png": "[encoded data removed]",
            "text/plain": [
              "<Figure size 1000x750 with 1 Axes>"
            ]
          },
          "metadata": {
            "tags": [],
            "needs_background": "light"
          }
        }
      ]
    },
    {
      "cell_type": "markdown",
      "metadata": {
        "id": "Py6rr99BxaRD"
      },
      "source": [
        "# Evaluasi Nilai Optimum K"
      ]
    },
    {
      "cell_type": "markdown",
      "metadata": {
        "id": "aIcpv5ObxdC7"
      },
      "source": [
        "Import Library"
      ]
    },
    {
      "cell_type": "code",
      "metadata": {
        "id": "dUf4uckvu40S"
      },
      "source": [
        "from sklearn.cluster import KMeans"
      ],
      "execution_count": 180,
      "outputs": []
    },
    {
      "cell_type": "markdown",
      "metadata": {
        "id": "5PIkKYsLxeug"
      },
      "source": [
        "Buat Array Kosong"
      ]
    },
    {
      "cell_type": "code",
      "metadata": {
        "id": "6euNnh47u40S"
      },
      "source": [
        "elbow=[]"
      ],
      "execution_count": 181,
      "outputs": []
    },
    {
      "cell_type": "code",
      "metadata": {
        "id": "lRgt98zru40T"
      },
      "source": [
        "for i in range(1, 20):\n",
        "    kmeans = KMeans(n_clusters = i, init = 'k-means++', random_state = 101)\n",
        "    kmeans.fit(X)\n",
        "    elbow.append(kmeans.inertia_)"
      ],
      "execution_count": 182,
      "outputs": []
    },
    {
      "cell_type": "code",
      "metadata": {
        "colab": {
          "base_uri": "https://localhost:8080/",
          "height": 649
        },
        "id": "UOqq7ZNtu40T",
        "outputId": "217725c7-24c0-4c16-a590-a259acb15a99"
      },
      "source": [
        "sns.lineplot(range(1, 20), elbow,color='blue')\n",
        "plt.rcParams.update({'figure.figsize':(10,7.5), 'figure.dpi':100})\n",
        "plt.title('Nilai Optimal K')\n",
        "plt.show()"
      ],
      "execution_count": 183,
      "outputs": [
        {
          "output_type": "display_data",
          "data": {
            "image/png": "[encoded data removed]",
            "text/plain": [
              "<Figure size 1000x750 with 1 Axes>"
            ]
          },
          "metadata": {
            "tags": [],
            "needs_background": "light"
          }
        }
      ]
    }
  ]
}